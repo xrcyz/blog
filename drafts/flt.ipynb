{
 "cells": [
  {
   "cell_type": "markdown",
   "metadata": {},
   "source": [
    "# Preface\n",
    "\n",
    "> _\"I have discovered a truly marvellous proof,\n",
    "which this margin is too narrow to contain…_\" \n",
    "\n",
    "For the past 8 years or so, whenever I need to kill some time, I break out a pen and paper and start playing with Fermat's Last Theorem. I have been advised by people much smarter than me that I am wasting my efforts on such a problem. Nonetheless, it is a quite excellent method for passing time on planes. If others can enjoy Sudoku, then surely I can be forgiven for a little recreational algebra. \n",
    "\n",
    "I have found Fermat's Last Theorem to be an excellent study in humility. Time and again I have believed with utter conviction that I have solved it, only to discover an error lurking in the weeds an hour, a day, or a week later. Over the years the gaps have grown longer between Eureka moments, and the errors take longer to find. I have learned that you can feel right and still be wrong. It is a valuable lesson, I think. \n",
    "\n",
    "What is Fermat's Last Theorem? The story goes that Pierre de Fermat (1607-1665) kept a notebook, which his son published after his death. In the margins of the notebook were mathematical riddles, some with solutions, some without. Gradually these puzzles were solved, all except for one: this became known as \"Fermat's Last Theorem\". It remained unsolved for 350 years, until Andrew Wiles solved it in 1995. For a deeper history, I highly recommend [Fermat's Last Theorem](https://simonsingh.net/books/fermats-last-theorem/the-book/) by Simon Singh. "
   ]
  },
  {
   "cell_type": "markdown",
   "metadata": {},
   "source": [
    "# Problem \n",
    "\n",
    "Can you solve `x**n + y**n == z**n` with integer parameters and `n>2`? "
   ]
  },
  {
   "cell_type": "markdown",
   "metadata": {},
   "source": [
    "# Approach\n",
    "\n",
    "I am writing this article in Jupyter notebook, and using the sympy library to check my algebra / render equations.\n",
    "\n",
    "The work is divided into three sections. \n",
    "- The first section establishes some general information.\n",
    "- The second section attempts a proof for the single case `n==3`. \n",
    "- The third section attempts to generalise the proof for `n>=3`. "
   ]
  },
  {
   "cell_type": "code",
   "execution_count": 38,
   "metadata": {},
   "outputs": [],
   "source": [
    "# setting up \n",
    "\n",
    "from sympy import *\n",
    "\n",
    "import IPython.display as disp "
   ]
  },
  {
   "cell_type": "code",
   "execution_count": 68,
   "metadata": {},
   "outputs": [],
   "source": [
    "x, y, z = symbols('x y z')\n",
    "u, v, w = symbols('u v w')\n",
    "a, b, c = symbols('a b c')\n",
    "p, q, r = symbols('p q r')\n",
    "k, k_x, k_y, k_z = symbols('k k_x k_y k_z')\n",
    "n, m, i = symbols('n m i')"
   ]
  },
  {
   "cell_type": "markdown",
   "metadata": {},
   "source": [
    "# Part 1: General Info\n",
    "\n",
    "## Terms `x,y,z` share no factors\n",
    "\n",
    "Given `z**n == x**n + y**n`, if any two variables share a factor, then the third variable also shares that factor. Then, divide all variables by the shared factor until no shared factors remain. "
   ]
  },
  {
   "cell_type": "markdown",
   "metadata": {},
   "source": [
    "# Part 2: Case `n==3`"
   ]
  },
  {
   "cell_type": "markdown",
   "metadata": {},
   "source": [
    "\n",
    "## First Factors\n",
    "\n",
    "If `x**3 + y**3 == z**3`, then:\n",
    "\n",
    "```py\n",
    "x**3 == (z - y)*((z - y)**2 + 3*z*y)\n",
    "y**3 == (z - x)*((z - x)**2 + 3*z*y)\n",
    "z**3 == (x + y)*((x + y)**2 - 3*x*y)\n",
    "```\n",
    "\n",
    "Proof:"
   ]
  },
  {
   "cell_type": "code",
   "execution_count": 40,
   "metadata": {},
   "outputs": [
    {
     "data": {
      "text/latex": [
       "$\\displaystyle x^{3} = \\left(- y + z\\right) \\left(3 y z + \\left(- y + z\\right)^{2}\\right)$"
      ],
      "text/plain": [
       "Eq(x**3, (-y + z)*(3*y*z + (-y + z)**2))"
      ]
     },
     "metadata": {},
     "output_type": "display_data"
    },
    {
     "data": {
      "text/latex": [
       "$\\displaystyle y^{3} = \\left(- x + z\\right) \\left(3 x z + \\left(- x + z\\right)^{2}\\right)$"
      ],
      "text/plain": [
       "Eq(y**3, (-x + z)*(3*x*z + (-x + z)**2))"
      ]
     },
     "metadata": {},
     "output_type": "display_data"
    },
    {
     "data": {
      "text/latex": [
       "$\\displaystyle z^{3} = \\left(x + y\\right) \\left(- 3 x y + \\left(x + y\\right)^{2}\\right)$"
      ],
      "text/plain": [
       "Eq(z**3, (x + y)*(-3*x*y + (x + y)**2))"
      ]
     },
     "metadata": {},
     "output_type": "display_data"
    }
   ],
   "source": [
    "LH1 = z**3-y**3\n",
    "RH1 = (z-y)*((z-y)**2 + 3*z*y)\n",
    "\n",
    "LH2 = z**3-x**3\n",
    "RH2 = (z-x)*((z-x)**2 + 3*z*x)\n",
    "\n",
    "LH3 = x**3+y**3\n",
    "RH3 = (x+y)*((x+y)**2 - 3*x*y)\n",
    "\n",
    "assert (simplify(LH1 - RH1) == 0)\n",
    "assert (simplify(LH2 - RH2) == 0)\n",
    "assert (simplify(LH3 - RH3) == 0)\n",
    "\n",
    "LH1 = LH1.subs(z**3-y**3, x**3)\n",
    "LH2 = LH2.subs(z**3-x**3, y**3)\n",
    "LH3 = LH3.subs(x**3+y**3, z**3)\n",
    "\n",
    "eq1 = Eq(LH1, RH1)\n",
    "eq2 = Eq(LH2, RH2)\n",
    "eq3 = Eq(LH3, RH3)\n",
    "\n",
    "disp.display(eq1)\n",
    "disp.display(eq2)\n",
    "disp.display(eq3)"
   ]
  },
  {
   "cell_type": "markdown",
   "metadata": {},
   "source": [
    "## Factors of Factors\n",
    "\n",
    "- If `(z-y) % k_x == ((z-y)**2 + 3*z*y) % k_x` then `(k_x == 3)`.\n",
    "- If `(z-x) % k_y == ((z-x)**2 + 3*z*x) % k_y` then `(k_y == 3)`.\n",
    "- If `(x+y) % k_z == ((x+y)**2 - 3*x*y) % k_z` then `(k_z == 3)`.\n",
    "\n",
    "Proof: \n",
    "\n",
    "Let `k_x` be an integer factor of `x` such that `(z-y) % k_x == ((z-y)**2 + 3*z*y) % k_x`."
   ]
  },
  {
   "cell_type": "code",
   "execution_count": 41,
   "metadata": {},
   "outputs": [
    {
     "data": {
      "text/latex": [
       "$\\displaystyle \\left(- y + z\\right) \\bmod k_{x} = \\left(- 3 y z + \\left(- y + z\\right)^{2}\\right) \\bmod k_{x}$"
      ],
      "text/plain": [
       "Eq(Mod(-y + z, k_x), Mod(-3*y*z + (-y + z)**2, k_x))"
      ]
     },
     "metadata": {},
     "output_type": "display_data"
    },
    {
     "data": {
      "text/latex": [
       "$\\displaystyle \\left(- y + z\\right) \\bmod k_{x} = \\left(- 3 y z \\bmod k_{x}\\right) + \\left(\\left(- y + z\\right)^{2} \\bmod k_{x}\\right)$"
      ],
      "text/plain": [
       "Eq(Mod(-y + z, k_x), -Mod(3*y*z, k_x) + Mod((-y + z)**2, k_x))"
      ]
     },
     "metadata": {},
     "output_type": "display_data"
    },
    {
     "data": {
      "text/latex": [
       "$\\displaystyle \\left(- y + z\\right) \\bmod k_{x} = 0$"
      ],
      "text/plain": [
       "Eq(Mod(-y + z, k_x), 0)"
      ]
     },
     "metadata": {},
     "output_type": "display_data"
    },
    {
     "data": {
      "text/latex": [
       "$\\displaystyle \\left(- y + z\\right)^{2} \\bmod k_{x} = 0$"
      ],
      "text/plain": [
       "Eq(Mod((-y + z)**2, k_x), 0)"
      ]
     },
     "metadata": {},
     "output_type": "display_data"
    },
    {
     "data": {
      "text/latex": [
       "$\\displaystyle 0 = - 3 y z \\bmod k_{x}$"
      ],
      "text/plain": [
       "Eq(0, -Mod(3*y*z, k_x))"
      ]
     },
     "metadata": {},
     "output_type": "display_data"
    }
   ],
   "source": [
    "lhs = Mod((z - y), k_x)\n",
    "rhs = Mod((z-y)**2 - 3*z*y, k_x)\n",
    "eq1 = Eq(lhs, rhs)\n",
    "disp.display(eq1)\n",
    "\n",
    "rhs = Mod((z-y)**2, k_x) - Mod(3*z*y, k_x)\n",
    "eq1 = Eq(lhs, rhs)\n",
    "disp.display(eq1)\n",
    "\n",
    "eq2 = Eq(lhs, 0)\n",
    "eq3 = Eq(Mod((z-y)**2, k_x), 0)\n",
    "disp.display(eq2)\n",
    "disp.display(eq3)\n",
    "# disp.display(disp.Math(\"\\\\rightarrow \" + latex(eq3)))\n",
    "\n",
    "eq1 = eq1.subs(eq2.lhs, eq2.rhs)\n",
    "eq1 = eq1.subs(eq3.lhs, eq3.rhs)\n",
    "disp.display(eq1)"
   ]
  },
  {
   "cell_type": "markdown",
   "metadata": {},
   "source": [
    "The component `yz` cannot be a multiple of `k_x`, since `k_x` is a factor of `x` and `x`, `y`, `z` are coprime. "
   ]
  },
  {
   "cell_type": "code",
   "execution_count": 42,
   "metadata": {},
   "outputs": [
    {
     "data": {
      "text/latex": [
       "$\\displaystyle x \\bmod k_{x} = 0$"
      ],
      "text/plain": [
       "Eq(Mod(x, k_x), 0)"
      ]
     },
     "metadata": {},
     "output_type": "display_data"
    },
    {
     "data": {
      "text/latex": [
       "$\\displaystyle y \\bmod k_{x} \\neq 0$"
      ],
      "text/plain": [
       "Ne(Mod(y, k_x), 0)"
      ]
     },
     "metadata": {},
     "output_type": "display_data"
    },
    {
     "data": {
      "text/latex": [
       "$\\displaystyle z \\bmod k_{x} \\neq 0$"
      ],
      "text/plain": [
       "Ne(Mod(z, k_x), 0)"
      ]
     },
     "metadata": {},
     "output_type": "display_data"
    },
    {
     "data": {
      "text/latex": [
       "$\\displaystyle 0 = 3 \\bmod k_{x}$"
      ],
      "text/plain": [
       "Eq(0, Mod(3, k_x))"
      ]
     },
     "metadata": {},
     "output_type": "display_data"
    },
    {
     "data": {
      "text/latex": [
       "$\\displaystyle k_x = 3$"
      ],
      "text/plain": [
       "<IPython.core.display.Math object>"
      ]
     },
     "metadata": {},
     "output_type": "display_data"
    }
   ],
   "source": [
    "disp.display(Eq(Mod(x, k_x), 0))\n",
    "disp.display(Ne(Mod(y, k_x), 0))\n",
    "disp.display(Ne(Mod(z, k_x), 0))\n",
    "\n",
    "eq1 = Eq(0, Mod(3, k_x))\n",
    "# disp.display(disp.Math(\"\\\\rightarrow \" + latex(eq1)))\n",
    "disp.display(eq1)\n",
    "disp.display(disp.Math(\"k_x = 3\"))"
   ]
  },
  {
   "cell_type": "markdown",
   "metadata": {},
   "source": [
    "Therefore, if `(z-y) % k_x == ((z-y)**2 + 3*z*y) % k_x` then `(k_x == 3)`.\n",
    "\n",
    "We can repeat the steps above to prove the same for `k_y` and `k_z`. "
   ]
  },
  {
   "cell_type": "markdown",
   "metadata": {},
   "source": [
    "## A Multiple of 3\n",
    "\n",
    "Exactly one of `x`, `y`, or `z` is divisible by 3. \n",
    "\n",
    "Proof: \n",
    "\n"
   ]
  },
  {
   "cell_type": "code",
   "execution_count": 43,
   "metadata": {},
   "outputs": [
    {
     "data": {
      "text/latex": [
       "$\\displaystyle \\left(x + y - z\\right)^{3} = x^{3} + y^{3} - z^{3} + \\left(- x + z\\right) \\left(3 x + 3 y\\right) \\left(- y + z\\right)$"
      ],
      "text/plain": [
       "Eq((x + y - z)**3, x**3 + y**3 - z**3 + (-x + z)*(3*x + 3*y)*(-y + z))"
      ]
     },
     "metadata": {},
     "output_type": "display_data"
    },
    {
     "data": {
      "text/latex": [
       "$\\displaystyle \\left(x + y - z\\right)^{3} = \\left(- x + z\\right) \\left(3 x + 3 y\\right) \\left(- y + z\\right)$"
      ],
      "text/plain": [
       "Eq((x + y - z)**3, (-x + z)*(3*x + 3*y)*(-y + z))"
      ]
     },
     "metadata": {},
     "output_type": "display_data"
    }
   ],
   "source": [
    "lhs = (x + y - z)**3 \n",
    "rhs = 3 * (x + y) * (z - x) * (z - y) + x**3 + y**3 - z**3\n",
    "\n",
    "assert(simplify(lhs - rhs) == 0)\n",
    "\n",
    "eq1 = Eq(lhs, rhs)\n",
    "disp.display(eq1)\n",
    "\n",
    "eq1 = eq1.subs(x**3 + y**3 - z**3, 0)\n",
    "disp.display(eq1)"
   ]
  },
  {
   "cell_type": "markdown",
   "metadata": {},
   "source": [
    "Given the `3` on the right hand side, it follows that `(x + y - z) % 3 == 0`."
   ]
  },
  {
   "cell_type": "code",
   "execution_count": 44,
   "metadata": {},
   "outputs": [
    {
     "data": {
      "text/latex": [
       "$\\displaystyle \\left(x + y - z\\right) \\bmod 3 = 0$"
      ],
      "text/plain": [
       "Eq(Mod(x + y - z, 3), 0)"
      ]
     },
     "metadata": {},
     "output_type": "display_data"
    },
    {
     "data": {
      "text/latex": [
       "$\\displaystyle \\left(x + y - z\\right)^{3} \\bmod 27 = 0$"
      ],
      "text/plain": [
       "Eq(Mod((x + y - z)**3, 27), 0)"
      ]
     },
     "metadata": {},
     "output_type": "display_data"
    },
    {
     "data": {
      "text/latex": [
       "$\\displaystyle \\left(- x + z\\right) \\left(x + y\\right) \\left(- y + z\\right) \\bmod 9 = 0$"
      ],
      "text/plain": [
       "Eq(Mod((-x + z)*(x + y)*(-y + z), 9), 0)"
      ]
     },
     "metadata": {},
     "output_type": "display_data"
    }
   ],
   "source": [
    "eq2 = Eq(Mod((x + y - z), 3), 0)\n",
    "disp.display(eq2)\n",
    "\n",
    "eq2 = Eq(Mod((x + y - z)**3, 3**3), 0)\n",
    "disp.display(eq2)\n",
    "\n",
    "eq2 = Eq(Mod((x + y) * (z - x) * (z - y), 3**2), 0)\n",
    "disp.display(eq2)"
   ]
  },
  {
   "cell_type": "markdown",
   "metadata": {},
   "source": [
    "We know that `(x+y)`, `(z-x)`, `(z-y)` are coprime, as they are factors of `x`, `y`, and `z`, which are also coprime. \n",
    "\n",
    "Therefore one of those terms is divisible by 9.\n",
    "\n",
    "Therefore one of `x`, `y`, ore `z` is divisible by `3`. \n",
    "\n",
    "Example:"
   ]
  },
  {
   "cell_type": "code",
   "execution_count": 45,
   "metadata": {},
   "outputs": [
    {
     "data": {
      "text/latex": [
       "$\\displaystyle \\left(- x + z\\right) \\bmod 9 = 0$"
      ],
      "text/plain": [
       "Eq(Mod(-x + z, 9), 0)"
      ]
     },
     "metadata": {},
     "output_type": "display_data"
    },
    {
     "data": {
      "text/latex": [
       "$\\displaystyle y^{3} \\bmod \\left(- x + z\\right) = 0$"
      ],
      "text/plain": [
       "Eq(Mod(y**3, -x + z), 0)"
      ]
     },
     "metadata": {},
     "output_type": "display_data"
    },
    {
     "data": {
      "text/latex": [
       "$\\displaystyle \\rightarrow y^{3} \\bmod 9 = 0$"
      ],
      "text/plain": [
       "<IPython.core.display.Math object>"
      ]
     },
     "metadata": {},
     "output_type": "display_data"
    },
    {
     "data": {
      "text/latex": [
       "$\\displaystyle \\rightarrow y \\bmod 3 = 0$"
      ],
      "text/plain": [
       "<IPython.core.display.Math object>"
      ]
     },
     "metadata": {},
     "output_type": "display_data"
    }
   ],
   "source": [
    "eq1 = Eq(Mod((z-x), 9), 0)\n",
    "disp.display(eq1)\n",
    "\n",
    "eq1 = Eq(Mod((y**3), (z-x)), 0)\n",
    "disp.display(eq1)\n",
    "\n",
    "eq1 = eq1.subs(z-x, 9)\n",
    "# disp.display(eq1)\n",
    "disp.display(disp.Math(\"\\\\rightarrow \" + latex(eq1)))\n",
    "\n",
    "eq1 = Eq(Mod(y, 3), 0)\n",
    "# disp.display(eq1)\n",
    "disp.display(disp.Math(\"\\\\rightarrow \" + latex(eq1)))"
   ]
  },
  {
   "cell_type": "markdown",
   "metadata": {},
   "source": [
    "## Named Factors `(p, q, r)`\n",
    "\n",
    "Introduce three new variables, `p`, `q`, and `r`, to represent the factors of `z-y`, `z-x`, and `x+y`.\n",
    "\n",
    "- If `x % 3 == 0` then `(z-y, z-x, x+y) = (9*p**3, q**3, r**3)`\n",
    "- If `y % 3 == 0` then `(z-y, z-x, x+y) = (p**3, 9*q**3, r**3)`\n",
    "- If `z % 3 == 0` then `(z-y, z-x, x+y) = (p**3, q**3, 9*r**3)`\n",
    "\n",
    "\n",
    "Proof:"
   ]
  },
  {
   "cell_type": "code",
   "execution_count": 46,
   "metadata": {},
   "outputs": [
    {
     "data": {
      "text/latex": [
       "$\\displaystyle \\left(x + y - z\\right)^{3} = 3 \\left(x + y\\right) \\left(x - z\\right) \\left(y - z\\right)$"
      ],
      "text/plain": [
       "Eq((x + y - z)**3, 3*(x + y)*(x - z)*(y - z))"
      ]
     },
     "metadata": {},
     "output_type": "display_data"
    },
    {
     "data": {
      "text/latex": [
       "$\\displaystyle \\left(x + y - z\\right) \\bmod 3 = 0$"
      ],
      "text/plain": [
       "Eq(Mod(x + y - z, 3), 0)"
      ]
     },
     "metadata": {},
     "output_type": "display_data"
    },
    {
     "data": {
      "text/latex": [
       "$\\displaystyle \\left(x + y - z\\right)^{3} \\bmod 27 = 0$"
      ],
      "text/plain": [
       "Eq(Mod((x + y - z)**3, 27), 0)"
      ]
     },
     "metadata": {},
     "output_type": "display_data"
    },
    {
     "data": {
      "text/latex": [
       "$\\displaystyle \\left(- x + z\\right) \\left(x + y\\right) \\left(- y + z\\right) \\bmod 9 = 0$"
      ],
      "text/plain": [
       "Eq(Mod((-x + z)*(x + y)*(-y + z), 9), 0)"
      ]
     },
     "metadata": {},
     "output_type": "display_data"
    }
   ],
   "source": [
    "lhs = (x + y - z)**3 \n",
    "rhs = factor(3 * (x + y) * (z - x) * (z - y))\n",
    "\n",
    "eq1 = Eq(lhs, rhs)\n",
    "disp.display(eq1)\n",
    "\n",
    "eq2 = Eq(Mod((x + y - z), 3), 0)\n",
    "disp.display(eq2)\n",
    "\n",
    "eq2 = Eq(Mod((x + y - z)**3, 3**3), 0)\n",
    "disp.display(eq2)\n",
    "\n",
    "eq2 = Eq(Mod((x + y) * (z - x) * (z - y), 3**2), 0)\n",
    "disp.display(eq2)"
   ]
  },
  {
   "cell_type": "markdown",
   "metadata": {},
   "source": [
    "Remember that `z-y`, `z-x`, or `x+y` are coprime. One is a multiple of `9`, the others are not. "
   ]
  },
  {
   "cell_type": "markdown",
   "metadata": {},
   "source": [
    "### Case 1\n",
    "\n",
    "If `(z-y) % 9 == 0`, then we define a new integer `w = (z-y)/9`."
   ]
  },
  {
   "cell_type": "code",
   "execution_count": 47,
   "metadata": {},
   "outputs": [
    {
     "data": {
      "text/latex": [
       "$\\displaystyle w = \\frac{- y + z}{9}$"
      ],
      "text/plain": [
       "Eq(w, (-y + z)/9)"
      ]
     },
     "metadata": {},
     "output_type": "display_data"
    },
    {
     "data": {
      "text/latex": [
       "$\\displaystyle \\left(x + y - z\\right)^{3} = 3 \\left(x + y\\right) \\left(x - z\\right) \\left(y - z\\right)$"
      ],
      "text/plain": [
       "Eq((x + y - z)**3, 3*(x + y)*(x - z)*(y - z))"
      ]
     },
     "metadata": {},
     "output_type": "display_data"
    },
    {
     "data": {
      "text/latex": [
       "$\\displaystyle \\left(- 9 w + x\\right)^{3} = - 27 w \\left(x + y\\right) \\left(x - z\\right)$"
      ],
      "text/plain": [
       "Eq((-9*w + x)**3, -27*w*(x + y)*(x - z))"
      ]
     },
     "metadata": {},
     "output_type": "display_data"
    },
    {
     "data": {
      "text/latex": [
       "$\\displaystyle \\left(- 3 w + \\frac{x}{3}\\right)^{3} = - w \\left(x + y\\right) \\left(x - z\\right)$"
      ],
      "text/plain": [
       "Eq((-3*w + x/3)**3, -w*(x + y)*(x - z))"
      ]
     },
     "metadata": {},
     "output_type": "display_data"
    }
   ],
   "source": [
    "def_w = Eq(w, UnevaluatedExpr(z-y)/9)\n",
    "disp.display(def_w)\n",
    "\n",
    "lhs = (x + y - z)**3 \n",
    "rhs = factor(3 * (x + y) * (z - x) * (z - y))\n",
    "eq1 = Eq(lhs, rhs)\n",
    "disp.display(eq1)\n",
    "\n",
    "eq1 = eq1.subs((z-y), 9*w)\n",
    "disp.display(eq1)\n",
    "\n",
    "eq1 = Eq(eq1.lhs / 27, eq1.rhs / 27)\n",
    "eq1 = eq1.subs((-9*w+x)**3 / 27, (-3*w+x/3)**3)\n",
    "disp.display(eq1)"
   ]
  },
  {
   "cell_type": "markdown",
   "metadata": {},
   "source": [
    "If `(z-y) % 9 == 0` then `x % 3 == 0`. \n",
    "\n",
    "Since `w` is a factor of `(z-y)`, then it is coprime to `(x+y)` and `(z-x)`. \n",
    "\n",
    "Since the left hand side of the equation is a cube, it follows that `w`, `(x+y)`, and `(z-x)` are also cubes. \n",
    "\n",
    "Let us define three new integers such that `w = p**3`, `(z-x) = q**3`, and `(x+y) = r**3`. \n",
    "\n",
    "Substituting `w = (z-y)/9` gives us `z-y = 9*p**3`."
   ]
  },
  {
   "cell_type": "markdown",
   "metadata": {},
   "source": [
    "### Case 2\n",
    "\n",
    "Case 2 is identical to Case 1. Just swap all instances of `(x, z-y)` with `(y, z-x)`."
   ]
  },
  {
   "cell_type": "markdown",
   "metadata": {},
   "source": [
    "### Case 3\n",
    "\n",
    "Case 3 is identical to Case 1. Just swap all instances of `(x, z-y)` with `(z, x+y)`."
   ]
  },
  {
   "cell_type": "markdown",
   "metadata": {},
   "source": [
    "## Named Factors `(a, b, c)` \n",
    "\n",
    "Introduce three new variables, `a`, `b`, and `c`.\n",
    "\n",
    "- If `z-y == 3**2 * p**3` then `(x, y, z) = (3*a*p, b*q, c*r)`\n",
    "- If `z-x == 3**2 * q**3` then `(x, y, z) = (a*p, 3*b*q, c*r)`\n",
    "- If `x+y == 3**2 * r**3` then `(x, y, z) = (a*p, b*q, 3*c*r)`\n",
    "\n",
    "Proof:"
   ]
  },
  {
   "cell_type": "markdown",
   "metadata": {},
   "source": [
    "### Case 1\n",
    "\n",
    "If `(z-y) == 9*p**3` then `x % (3*p) == 0`.\n",
    "\n",
    "Therefore let `a = x / (3*p)` such that `x = 3 * a * p`. "
   ]
  },
  {
   "cell_type": "markdown",
   "metadata": {},
   "source": [
    "If `(z-x) == q**3` then `y % q == 0`. \n",
    "\n",
    "Therefore let `b = y / q` such that `y = b * q`. "
   ]
  },
  {
   "cell_type": "markdown",
   "metadata": {},
   "source": [
    "If `(x+y) == r**3` then `z % r == 0`.\n",
    "\n",
    "Therefore let `c = z / r` such that `z = c * r`."
   ]
  },
  {
   "cell_type": "markdown",
   "metadata": {},
   "source": [
    "### Case 2\n",
    "\n",
    "Case 2 is identical to Case 1. Just swap all instances of `(x, z-y)` with `(y, z-x)`."
   ]
  },
  {
   "cell_type": "markdown",
   "metadata": {},
   "source": [
    "### Case 3\n",
    "\n",
    "Case 3 is identical to Case 1. Just swap all instances of `(x, z-y)` with `(z, x+y)`."
   ]
  },
  {
   "cell_type": "markdown",
   "metadata": {},
   "source": [
    "## Identities of `(a³, b³, c³)` \n",
    "\n",
    "- If `x == 3*a*p` then `a**3 = -b*c*q*r + 27*p**6`\n",
    "- If `y == 3*b*q` then `b**3 = −a*c*p*r + 27*q**6` \n",
    "- If `z == 3*c*r` then `c**3 = −a*b*p*q + 27*r**6` \n",
    "\n",
    "Proof:"
   ]
  },
  {
   "cell_type": "markdown",
   "metadata": {},
   "source": [
    "### Case 1\n",
    "\n",
    "Substitute `x = 3*a*p` and `(z-y) = 9*p**3` into `x**3 = (z-y)**3 - 3*z*y*(z - y)`."
   ]
  },
  {
   "cell_type": "code",
   "execution_count": 54,
   "metadata": {},
   "outputs": [
    {
     "data": {
      "text/latex": [
       "$\\displaystyle x^{3} = - 3 y z \\left(- y + z\\right) + \\left(- y + z\\right)^{3}$"
      ],
      "text/plain": [
       "Eq(x**3, -3*y*z*(-y + z) + (-y + z)**3)"
      ]
     },
     "metadata": {},
     "output_type": "display_data"
    },
    {
     "data": {
      "text/latex": [
       "$\\displaystyle 27 a^{3} p^{3} = 729 p^{9} - 27 p^{3} y z$"
      ],
      "text/plain": [
       "Eq(27*a**3*p**3, 729*p**9 - 27*p**3*y*z)"
      ]
     },
     "metadata": {},
     "output_type": "display_data"
    },
    {
     "data": {
      "text/latex": [
       "$\\displaystyle a^{3} = 27 p^{6} - y z$"
      ],
      "text/plain": [
       "Eq(a**3, 27*p**6 - y*z)"
      ]
     },
     "metadata": {},
     "output_type": "display_data"
    },
    {
     "data": {
      "text/latex": [
       "$\\displaystyle a^{3} = - b c q r + 27 p^{6}$"
      ],
      "text/plain": [
       "Eq(a**3, -b*c*q*r + 27*p**6)"
      ]
     },
     "metadata": {},
     "output_type": "display_data"
    }
   ],
   "source": [
    "eq1 = Eq(x**3, (z-y)**3 - 3*z*y*(z - y))\n",
    "disp.display(eq1)\n",
    "\n",
    "eq1 = eq1.subs(x, 3*a*p)\n",
    "eq1 = eq1.subs(z-y, 3**2 * p**3)\n",
    "disp.display(eq1)\n",
    "\n",
    "eq1 = factor(eq1) \n",
    "eq1 = Eq(eq1.lhs / (27*p**3), eq1.rhs / (27*p**3))\n",
    "disp.display(eq1)\n",
    "\n",
    "eq1 = eq1.subs(y, b*q)\n",
    "eq1 = eq1.subs(z, c*r)\n",
    "disp.display(eq1)"
   ]
  },
  {
   "cell_type": "markdown",
   "metadata": {},
   "source": [
    "### Case 2\n",
    "\n",
    "Substitute `y = 3*b*q` and `(z-x) = 9*q**3` into `y**3 = (z-x)**3 - 3*z*x*(z - x)`."
   ]
  },
  {
   "cell_type": "code",
   "execution_count": 55,
   "metadata": {},
   "outputs": [
    {
     "data": {
      "text/latex": [
       "$\\displaystyle y^{3} = - 3 x z \\left(- x + z\\right) + \\left(- x + z\\right)^{3}$"
      ],
      "text/plain": [
       "Eq(y**3, -3*x*z*(-x + z) + (-x + z)**3)"
      ]
     },
     "metadata": {},
     "output_type": "display_data"
    },
    {
     "data": {
      "text/latex": [
       "$\\displaystyle 27 b^{3} q^{3} = 729 q^{9} - 27 q^{3} x z$"
      ],
      "text/plain": [
       "Eq(27*b**3*q**3, 729*q**9 - 27*q**3*x*z)"
      ]
     },
     "metadata": {},
     "output_type": "display_data"
    },
    {
     "data": {
      "text/latex": [
       "$\\displaystyle b^{3} = 27 q^{6} - x z$"
      ],
      "text/plain": [
       "Eq(b**3, 27*q**6 - x*z)"
      ]
     },
     "metadata": {},
     "output_type": "display_data"
    },
    {
     "data": {
      "text/latex": [
       "$\\displaystyle b^{3} = - a c p r + 27 q^{6}$"
      ],
      "text/plain": [
       "Eq(b**3, -a*c*p*r + 27*q**6)"
      ]
     },
     "metadata": {},
     "output_type": "display_data"
    }
   ],
   "source": [
    "# case 2: y = 3*b*c\n",
    "\n",
    "eq1 = Eq(y**3, (z-x)**3 - 3*z*x*(z - x))\n",
    "disp.display(eq1)\n",
    "\n",
    "eq1 = eq1.subs(y, 3*b*q)\n",
    "eq1 = eq1.subs(z-x, 3**2 * q**3)\n",
    "disp.display(eq1)\n",
    "\n",
    "eq1 = factor(eq1) \n",
    "eq1 = Eq(eq1.lhs / (27*q**3), eq1.rhs / (27*q**3))\n",
    "disp.display(eq1)\n",
    "\n",
    "eq1 = eq1.subs(x, a*p)\n",
    "eq1 = eq1.subs(z, c*r)\n",
    "disp.display(eq1)"
   ]
  },
  {
   "cell_type": "markdown",
   "metadata": {},
   "source": [
    "### Case 3\n",
    "\n",
    "Substitute `z = 3*c*r` and `(x+y) = 9*r**3` into `z**3 = (x+y)**3 - 3*x*y*(x+y)`."
   ]
  },
  {
   "cell_type": "code",
   "execution_count": 56,
   "metadata": {},
   "outputs": [
    {
     "data": {
      "text/latex": [
       "$\\displaystyle z^{3} = - 3 x y \\left(x + y\\right) + \\left(x + y\\right)^{3}$"
      ],
      "text/plain": [
       "Eq(z**3, -3*x*y*(x + y) + (x + y)**3)"
      ]
     },
     "metadata": {},
     "output_type": "display_data"
    },
    {
     "data": {
      "text/latex": [
       "$\\displaystyle 27 c^{3} r^{3} = 729 r^{9} - 27 r^{3} x y$"
      ],
      "text/plain": [
       "Eq(27*c**3*r**3, 729*r**9 - 27*r**3*x*y)"
      ]
     },
     "metadata": {},
     "output_type": "display_data"
    },
    {
     "data": {
      "text/latex": [
       "$\\displaystyle c^{3} = 27 r^{6} - x y$"
      ],
      "text/plain": [
       "Eq(c**3, 27*r**6 - x*y)"
      ]
     },
     "metadata": {},
     "output_type": "display_data"
    },
    {
     "data": {
      "text/latex": [
       "$\\displaystyle c^{3} = - a b p q + 27 r^{6}$"
      ],
      "text/plain": [
       "Eq(c**3, -a*b*p*q + 27*r**6)"
      ]
     },
     "metadata": {},
     "output_type": "display_data"
    }
   ],
   "source": [
    "# case 3: z = 3*c*r\n",
    "\n",
    "eq1 = Eq(z**3, (x+y)**3 - 3*x*y*(x+y))\n",
    "disp.display(eq1)\n",
    "\n",
    "eq1 = eq1.subs(z, 3*c*r)\n",
    "eq1 = eq1.subs(x+y, 3**2 * r**3)\n",
    "disp.display(eq1)\n",
    "\n",
    "eq1 = factor(eq1) \n",
    "eq1 = Eq(eq1.lhs / (27*r**3), eq1.rhs / (27*r**3))\n",
    "disp.display(eq1)\n",
    "\n",
    "eq1 = eq1.subs(x, a*p)\n",
    "eq1 = eq1.subs(y, b*q)\n",
    "disp.display(eq1)"
   ]
  },
  {
   "cell_type": "markdown",
   "metadata": {},
   "source": [
    "# Scaling up\n",
    "\n",
    "- If `a**3 = -b*c*q*r + 27*p**6` then `p = 0`. \n",
    "- If `b**3 = −a*c*p*r + 27*q**6` then `q = 0`.\n",
    "- If `c**3 = −a*b*p*q + 27*r**6` then `r = 0`.\n",
    "\n",
    "Proof:"
   ]
  },
  {
   "cell_type": "code",
   "execution_count": 57,
   "metadata": {},
   "outputs": [
    {
     "data": {
      "text/latex": [
       "$\\displaystyle x^{n} + y^{n} = z^{n}$"
      ],
      "text/plain": [
       "Eq(x**n + y**n, z**n)"
      ]
     },
     "metadata": {},
     "output_type": "display_data"
    },
    {
     "data": {
      "text/latex": [
       "$\\displaystyle \\left(b q\\right)^{n} + \\left(3 a p\\right)^{n} = \\left(c r\\right)^{n}$"
      ],
      "text/plain": [
       "Eq((b*q)**n + (3*a*p)**n, (c*r)**n)"
      ]
     },
     "metadata": {},
     "output_type": "display_data"
    }
   ],
   "source": [
    "eq1 = Eq(x**n + y**n, z**n)\n",
    "disp.display(eq1)\n",
    "\n",
    "eq1 = eq1.subs(x, 3*a*p)\n",
    "eq1 = eq1.subs(y, b*q)\n",
    "eq1 = eq1.subs(z, c*r)\n",
    "disp.display(eq1)"
   ]
  }
 ],
 "metadata": {
  "kernelspec": {
   "display_name": "Python 3.10.6 64-bit",
   "language": "python",
   "name": "python3"
  },
  "language_info": {
   "codemirror_mode": {
    "name": "ipython",
    "version": 3
   },
   "file_extension": ".py",
   "mimetype": "text/x-python",
   "name": "python",
   "nbconvert_exporter": "python",
   "pygments_lexer": "ipython3",
   "version": "3.10.6"
  },
  "orig_nbformat": 4,
  "vscode": {
   "interpreter": {
    "hash": "369f2c481f4da34e4445cda3fffd2e751bd1c4d706f27375911949ba6bb62e1c"
   }
  }
 },
 "nbformat": 4,
 "nbformat_minor": 2
}
