{
 "cells": [
  {
   "cell_type": "markdown",
   "metadata": {},
   "source": [
    "# Preface\n",
    "\n",
    "> _\"I have discovered a truly marvellous proof,\n",
    "which this margin is too narrow to contain…_\" \n",
    "\n",
    "Since 2014 or so, whenever I need to kill some time, I break out a pen and paper and start playing around with Fermat's Last Theorem. I have been advised by people much smarter than me that I am wasting my efforts on such a problem. Nonetheless, it is a quite excellent method for passing time on planes. If others can enjoy Sudoku, then surely I can be forgiven for a little recreational algebra. \n",
    "\n",
    "I have found Fermat's Last Theorem to be an excellent study in humility. Time and again I have believed with utter conviction that I have solved it, only to discover an error lurking in the weeds an hour, a day, or a week later. Over the years the gaps have grown longer between Eureka moments, and the errors take longer to find. I have learned that you can feel right and still be wrong. It is a valuable lesson, I think. \n",
    "\n",
    "What is Fermat's Last Theorem? The story goes that Pierre de Fermat (1607-1665) kept a notebook, which his son published after his death. In the margins of the notebook were mathematical riddles, some with solutions, some without. Gradually these puzzles were solved, all except for one: this became known as \"Fermat's Last Theorem\". It remained unsolved for 350 years, until Andrew Wiles solved it in 1995. For a deeper history, I highly recommend [Fermat's Last Theorem](https://simonsingh.net/books/fermats-last-theorem/the-book/) by Simon Singh. "
   ]
  },
  {
   "cell_type": "markdown",
   "metadata": {},
   "source": [
    "# Problem \n",
    "\n",
    "Can you solve `x**n + y**n == z**n` with integer parameters and `n>2`? "
   ]
  },
  {
   "cell_type": "markdown",
   "metadata": {},
   "source": [
    "# Setup"
   ]
  },
  {
   "cell_type": "code",
   "execution_count": 1,
   "metadata": {},
   "outputs": [],
   "source": [
    "from sympy import *\n",
    "\n",
    "import IPython.display as disp "
   ]
  },
  {
   "cell_type": "code",
   "execution_count": 2,
   "metadata": {},
   "outputs": [],
   "source": [
    "x, y, z = symbols('x y z')\n",
    "u, v, w = symbols('u v w')\n",
    "a, b, c = symbols('a b c')\n",
    "p, q, r = symbols('p q r')\n",
    "k, k_x, k_y, k_z = symbols('k k_x k_y k_z')\n",
    "n, m, i = symbols('n m i')"
   ]
  },
  {
   "cell_type": "markdown",
   "metadata": {},
   "source": [
    "# 1. General Info\n",
    "\n",
    "## 1.1 Terms `x,y,z` share no factors\n",
    "\n",
    "Given `z**n == x**n + y**n`, if any two variables share a factor, then the third variable also shares that factor. Then, divide all variables by the shared factor until no shared factors remain. "
   ]
  },
  {
   "cell_type": "markdown",
   "metadata": {},
   "source": [
    "# 2. Case `n==3`"
   ]
  },
  {
   "cell_type": "markdown",
   "metadata": {},
   "source": [
    "\n",
    "## 2.1 Identity of `x^3`, `y^3`, `z^3`\n",
    "\n",
    "If `x**3 + y**3 == z**3`, then:\n",
    "\n",
    "- `x**3 == (z - y)*((z - y)**2 + 3*z*y)`\n",
    "- `y**3 == (z - x)*((z - x)**2 + 3*z*y)`\n",
    "- `z**3 == (x + y)*((x + y)**2 - 3*x*y)`\n",
    "\n",
    "Proof:"
   ]
  },
  {
   "cell_type": "code",
   "execution_count": 3,
   "metadata": {},
   "outputs": [
    {
     "data": {
      "text/latex": [
       "$\\displaystyle x^{3} = \\left(- y + z\\right) \\left(3 y z + \\left(- y + z\\right)^{2}\\right)$"
      ],
      "text/plain": [
       "Eq(x**3, (-y + z)*(3*y*z + (-y + z)**2))"
      ]
     },
     "metadata": {},
     "output_type": "display_data"
    },
    {
     "data": {
      "text/latex": [
       "$\\displaystyle y^{3} = \\left(- x + z\\right) \\left(3 x z + \\left(- x + z\\right)^{2}\\right)$"
      ],
      "text/plain": [
       "Eq(y**3, (-x + z)*(3*x*z + (-x + z)**2))"
      ]
     },
     "metadata": {},
     "output_type": "display_data"
    },
    {
     "data": {
      "text/latex": [
       "$\\displaystyle z^{3} = \\left(x + y\\right) \\left(- 3 x y + \\left(x + y\\right)^{2}\\right)$"
      ],
      "text/plain": [
       "Eq(z**3, (x + y)*(-3*x*y + (x + y)**2))"
      ]
     },
     "metadata": {},
     "output_type": "display_data"
    }
   ],
   "source": [
    "LH1 = z**3-y**3\n",
    "RH1 = (z-y)*((z-y)**2 + 3*z*y)\n",
    "\n",
    "LH2 = z**3-x**3\n",
    "RH2 = (z-x)*((z-x)**2 + 3*z*x)\n",
    "\n",
    "LH3 = x**3+y**3\n",
    "RH3 = (x+y)*((x+y)**2 - 3*x*y)\n",
    "\n",
    "assert (simplify(LH1 - RH1) == 0)\n",
    "assert (simplify(LH2 - RH2) == 0)\n",
    "assert (simplify(LH3 - RH3) == 0)\n",
    "\n",
    "LH1 = LH1.subs(z**3-y**3, x**3)\n",
    "LH2 = LH2.subs(z**3-x**3, y**3)\n",
    "LH3 = LH3.subs(x**3+y**3, z**3)\n",
    "\n",
    "eq1 = Eq(LH1, RH1)\n",
    "eq2 = Eq(LH2, RH2)\n",
    "eq3 = Eq(LH3, RH3)\n",
    "\n",
    "disp.display(eq1)\n",
    "disp.display(eq2)\n",
    "disp.display(eq3)"
   ]
  },
  {
   "cell_type": "markdown",
   "metadata": {},
   "source": [
    "## 2.3 Identify of `3xyz`"
   ]
  },
  {
   "cell_type": "code",
   "execution_count": 9,
   "metadata": {},
   "outputs": [
    {
     "data": {
      "text/latex": [
       "$\\displaystyle x^{3} + 3 x y z + y^{3} - z^{3} = \\left(x + y - z\\right) \\left(x^{2} - x y + x z + y^{2} + y z + z^{2}\\right)$"
      ],
      "text/plain": [
       "Eq(x**3 + 3*x*y*z + y**3 - z**3, (x + y - z)*(x**2 - x*y + x*z + y**2 + y*z + z**2))"
      ]
     },
     "metadata": {},
     "output_type": "display_data"
    },
    {
     "data": {
      "text/latex": [
       "$\\displaystyle 3 x y z = \\left(x + y - z\\right) \\left(x^{2} - x y + x z + y^{2} + y z + z^{2}\\right)$"
      ],
      "text/plain": [
       "Eq(3*x*y*z, (x + y - z)*(x**2 - x*y + x*z + y**2 + y*z + z**2))"
      ]
     },
     "metadata": {},
     "output_type": "display_data"
    }
   ],
   "source": [
    "lhs = 3*x*y*z + x**3 + y**3 - z**3\n",
    "rhs = (x+y-z)*(x**2 + y**2 + z**2 - x*y + y*z + x*z)\n",
    "\n",
    "eq1 = Eq(lhs, rhs)\n",
    "disp.display(eq1)\n",
    "\n",
    "assert(simplify(lhs - rhs) == 0)\n",
    "\n",
    "eq1 = eq1.subs(x**3 + y**3 - z**3, 0)\n",
    "disp.display(eq1)"
   ]
  },
  {
   "cell_type": "markdown",
   "metadata": {},
   "source": [
    "## 2.4 Identity of `(x+y-z)`"
   ]
  },
  {
   "cell_type": "code",
   "execution_count": 10,
   "metadata": {},
   "outputs": [
    {
     "data": {
      "text/latex": [
       "$\\displaystyle \\left(x + y - z\\right)^{3} = x^{3} + y^{3} - z^{3} + \\left(- x + z\\right) \\left(3 x + 3 y\\right) \\left(- y + z\\right)$"
      ],
      "text/plain": [
       "Eq((x + y - z)**3, x**3 + y**3 - z**3 + (-x + z)*(3*x + 3*y)*(-y + z))"
      ]
     },
     "metadata": {},
     "output_type": "display_data"
    },
    {
     "data": {
      "text/latex": [
       "$\\displaystyle \\left(x + y - z\\right)^{3} = 3 \\left(x + y\\right) \\left(x - z\\right) \\left(y - z\\right)$"
      ],
      "text/plain": [
       "Eq((x + y - z)**3, 3*(x + y)*(x - z)*(y - z))"
      ]
     },
     "metadata": {},
     "output_type": "display_data"
    }
   ],
   "source": [
    "lhs = (x + y - z)**3 \n",
    "rhs = 3 * (x + y) * (z - x) * (z - y) + x**3 + y**3 - z**3\n",
    "\n",
    "assert(simplify(lhs - rhs) == 0)\n",
    "\n",
    "eq1 = Eq(lhs, rhs)\n",
    "disp.display(eq1)\n",
    "\n",
    "eq1 = eq1.subs(x**3 + y**3 - z**3, 0)\n",
    "disp.display(factor(eq1))"
   ]
  },
  {
   "cell_type": "markdown",
   "metadata": {},
   "source": [
    "## 2.5 Assert `x` or `y` or `z` modulo 3 equals zero\n",
    "\n",
    "- Given `(x+y-z)**3 == 3*(x+y)*(x-z)*(y-z)`\n",
    "- Then `RHS % 3 == 0`\n",
    "- Therefore `LHS % 27 == 0`\n",
    "- Therefore one of `[y-z, x-z, x+y]` mod 9 is zero\n",
    "- Given `[x**3, y**3, z**3]` mod `[y-z, x-z, x+y]` are zero\n",
    "- Then exactly one of `[x,y,z]` mod 3 is zero"
   ]
  },
  {
   "cell_type": "markdown",
   "metadata": {},
   "source": [
    "## 2.6 Identity of `[z-x, z-y, x+y]`"
   ]
  },
  {
   "cell_type": "markdown",
   "metadata": {},
   "source": [
    "Introduce three new positive integers, `p`, `q`, and `r`.\n",
    "\n",
    "- If `x % 3 == 0` then `(z-y, z-x, x+y) = (9*p**3, q**3, r**3)`\n",
    "- If `y % 3 == 0` then `(z-y, z-x, x+y) = (p**3, 9*q**3, r**3)`\n",
    "- If `z % 3 == 0` then `(z-y, z-x, x+y) = (p**3, q**3, 9*r**3)`\n",
    "\n",
    "\n",
    "Proof:"
   ]
  },
  {
   "cell_type": "code",
   "execution_count": 7,
   "metadata": {},
   "outputs": [
    {
     "data": {
      "text/latex": [
       "$\\displaystyle \\left(x + y - z\\right)^{3} = 3 \\left(x + y\\right) \\left(x - z\\right) \\left(y - z\\right)$"
      ],
      "text/plain": [
       "Eq((x + y - z)**3, 3*(x + y)*(x - z)*(y - z))"
      ]
     },
     "metadata": {},
     "output_type": "display_data"
    },
    {
     "data": {
      "text/latex": [
       "$\\displaystyle \\left(x + y - z\\right) \\bmod 3 = 0$"
      ],
      "text/plain": [
       "Eq(Mod(x + y - z, 3), 0)"
      ]
     },
     "metadata": {},
     "output_type": "display_data"
    },
    {
     "data": {
      "text/latex": [
       "$\\displaystyle \\left(x + y - z\\right)^{3} \\bmod 27 = 0$"
      ],
      "text/plain": [
       "Eq(Mod((x + y - z)**3, 27), 0)"
      ]
     },
     "metadata": {},
     "output_type": "display_data"
    },
    {
     "data": {
      "text/latex": [
       "$\\displaystyle \\left(- x + z\\right) \\left(x + y\\right) \\left(- y + z\\right) \\bmod 9 = 0$"
      ],
      "text/plain": [
       "Eq(Mod((-x + z)*(x + y)*(-y + z), 9), 0)"
      ]
     },
     "metadata": {},
     "output_type": "display_data"
    }
   ],
   "source": [
    "lhs = (x + y - z)**3 \n",
    "rhs = factor(3 * (x + y) * (z - x) * (z - y))\n",
    "\n",
    "eq1 = Eq(lhs, rhs)\n",
    "disp.display(eq1)\n",
    "\n",
    "eq2 = Eq(Mod((x + y - z), 3), 0)\n",
    "disp.display(eq2)\n",
    "\n",
    "eq2 = Eq(Mod((x + y - z)**3, 3**3), 0)\n",
    "disp.display(eq2)\n",
    "\n",
    "eq2 = Eq(Mod((x + y) * (z - x) * (z - y), 3**2), 0)\n",
    "disp.display(eq2)"
   ]
  },
  {
   "cell_type": "markdown",
   "metadata": {},
   "source": [
    "Remember that `z-y`, `z-x`, or `x+y` are coprime. One is a multiple of `9`, the others are not. "
   ]
  },
  {
   "cell_type": "markdown",
   "metadata": {},
   "source": [
    "### Case 1\n",
    "\n",
    "If `(z-y) % 9 == 0`, then we define a new integer `w = (z-y)/9`."
   ]
  },
  {
   "cell_type": "code",
   "execution_count": 8,
   "metadata": {},
   "outputs": [
    {
     "data": {
      "text/latex": [
       "$\\displaystyle w = \\frac{- y + z}{9}$"
      ],
      "text/plain": [
       "Eq(w, (-y + z)/9)"
      ]
     },
     "metadata": {},
     "output_type": "display_data"
    },
    {
     "data": {
      "text/latex": [
       "$\\displaystyle \\left(x + y - z\\right)^{3} = 3 \\left(x + y\\right) \\left(x - z\\right) \\left(y - z\\right)$"
      ],
      "text/plain": [
       "Eq((x + y - z)**3, 3*(x + y)*(x - z)*(y - z))"
      ]
     },
     "metadata": {},
     "output_type": "display_data"
    },
    {
     "data": {
      "text/latex": [
       "$\\displaystyle \\left(- 9 w + x\\right)^{3} = - 27 w \\left(x + y\\right) \\left(x - z\\right)$"
      ],
      "text/plain": [
       "Eq((-9*w + x)**3, -27*w*(x + y)*(x - z))"
      ]
     },
     "metadata": {},
     "output_type": "display_data"
    },
    {
     "data": {
      "text/latex": [
       "$\\displaystyle \\left(- 3 w + \\frac{x}{3}\\right)^{3} = - w \\left(x + y\\right) \\left(x - z\\right)$"
      ],
      "text/plain": [
       "Eq((-3*w + x/3)**3, -w*(x + y)*(x - z))"
      ]
     },
     "metadata": {},
     "output_type": "display_data"
    }
   ],
   "source": [
    "def_w = Eq(w, UnevaluatedExpr(z-y)/9)\n",
    "disp.display(def_w)\n",
    "\n",
    "lhs = (x + y - z)**3 \n",
    "rhs = factor(3 * (x + y) * (z - x) * (z - y))\n",
    "eq1 = Eq(lhs, rhs)\n",
    "disp.display(eq1)\n",
    "\n",
    "eq1 = eq1.subs((z-y), 9*w)\n",
    "disp.display(eq1)\n",
    "\n",
    "eq1 = Eq(eq1.lhs / 27, eq1.rhs / 27)\n",
    "eq1 = eq1.subs((-9*w+x)**3 / 27, (-3*w+x/3)**3)\n",
    "disp.display(eq1)"
   ]
  },
  {
   "cell_type": "markdown",
   "metadata": {},
   "source": [
    "If `(z-y) % 9 == 0` then `x % 3 == 0`. \n",
    "\n",
    "Since `w` is a factor of `(z-y)`, then it is coprime to `(x+y)` and `(z-x)`. \n",
    "\n",
    "Since the left hand side of the equation is an integer cube, it follows that `w`, `(x+y)`, and `(z-x)` are also integer cubes. \n",
    "\n",
    "Let us define three new integers `[p, q, r]` such that `w = p**3`, `(z-x) = q**3`, and `(x+y) = r**3`. \n",
    "\n",
    "Substituting `w = (z-y)/9` gives us `z-y = 9*p**3`."
   ]
  },
  {
   "cell_type": "markdown",
   "metadata": {},
   "source": [
    "### Case 2\n",
    "\n",
    "Case 2 is identical to Case 1. Just swap all instances of `(x, z-y)` with `(y, z-x)`."
   ]
  },
  {
   "cell_type": "markdown",
   "metadata": {},
   "source": [
    "### Case 3\n",
    "\n",
    "Case 3 is identical to Case 1. Just swap all instances of `(x, z-y)` with `(z, x+y)`."
   ]
  },
  {
   "cell_type": "markdown",
   "metadata": {},
   "source": [
    "## 2.7 Identity of `[x^2-xy+y^2, y^2+yz+z^2, z^2+xz+z^2]`"
   ]
  },
  {
   "cell_type": "code",
   "execution_count": 53,
   "metadata": {},
   "outputs": [
    {
     "data": {
      "text/latex": [
       "$\\displaystyle 3 x y z = \\left(x + y - z\\right) \\left(x^{2} - x y + x z + y^{2} + y z + z^{2}\\right)$"
      ],
      "text/plain": [
       "Eq(3*x*y*z, (x + y - z)*(x**2 - x*y + x*z + y**2 + y*z + z**2))"
      ]
     },
     "metadata": {},
     "output_type": "display_data"
    },
    {
     "data": {
      "text/latex": [
       "$\\displaystyle 27 x^{3} y^{3} z^{3} = \\left(x + y - z\\right)^{3} \\left(x^{2} - x y + x z + y^{2} + y z + z^{2}\\right)^{3}$"
      ],
      "text/plain": [
       "Eq(27*x**3*y**3*z**3, (x + y - z)**3*(x**2 - x*y + x*z + y**2 + y*z + z**2)**3)"
      ]
     },
     "metadata": {},
     "output_type": "display_data"
    },
    {
     "data": {
      "text/latex": [
       "$\\displaystyle 27 x^{3} y^{3} z^{3} = 3 \\left(x + y\\right) \\left(x - z\\right) \\left(y - z\\right) \\left(x^{2} - x y + x z + y^{2} + y z + z^{2}\\right)^{3}$"
      ],
      "text/plain": [
       "Eq(27*x**3*y**3*z**3, 3*(x + y)*(x - z)*(y - z)*(x**2 - x*y + x*z + y**2 + y*z + z**2)**3)"
      ]
     },
     "metadata": {},
     "output_type": "display_data"
    },
    {
     "data": {
      "text/latex": [
       "$\\displaystyle \\frac{9 x^{3} y^{3} z^{3}}{\\left(x + y\\right) \\left(x - z\\right) \\left(y - z\\right)} = \\left(x^{2} - x y + x z + y^{2} + y z + z^{2}\\right)^{3}$"
      ],
      "text/plain": [
       "Eq(9*x**3*y**3*z**3/((x + y)*(x - z)*(y - z)), (x**2 - x*y + x*z + y**2 + y*z + z**2)**3)"
      ]
     },
     "metadata": {},
     "output_type": "display_data"
    },
    {
     "data": {
      "text/latex": [
       "$\\displaystyle \\left(x^{2} - x y + x z + y^{2} + y z + z^{2}\\right)^{3} = 9 \\left(x^{2} + x y + y^{2}\\right) \\left(x^{2} - x z + z^{2}\\right) \\left(y^{2} - y z + z^{2}\\right)$"
      ],
      "text/plain": [
       "Eq((x**2 - x*y + x*z + y**2 + y*z + z**2)**3, 9*(x**2 + x*y + y**2)*(x**2 - x*z + z**2)*(y**2 - y*z + z**2))"
      ]
     },
     "metadata": {},
     "output_type": "display_data"
    }
   ],
   "source": [
    "lhs = 3*x*y*z \n",
    "rhs = (x+y-z)*(x**2 + y**2 + z**2 - x*y + y*z + x*z)\n",
    "\n",
    "eq1 = Eq(lhs, rhs)\n",
    "disp.display(eq1)\n",
    "\n",
    "lhs = lhs**3\n",
    "rhs = rhs**3\n",
    "eq2 = Eq(lhs, rhs)\n",
    "disp.display(eq2)\n",
    "\n",
    "# substitute identity 2.4\n",
    "rhs = rhs.subs((x+y-z)**3, 3*(x+y)*(y-z)*(x-z))\n",
    "eq3 = Eq(lhs, rhs)\n",
    "disp.display(factor(eq3))\n",
    "\n",
    "# substitute identity 2.1 \n",
    "lhs = lhs / ((3*(x+y)*(y-z)*(x-z)))\n",
    "rhs = rhs / ((3*(x+y)*(y-z)*(x-z)))\n",
    "eq4 = Eq(lhs, rhs)\n",
    "disp.display(factor(eq4))\n",
    "\n",
    "lhs = lhs.subs(x**3, (z-y) * (z**2 - z*y + y**2))\n",
    "lhs = lhs.subs(y**3, (z-x) * (z**2 - z*x + x**2))\n",
    "lhs = lhs.subs(z**3, (x+y) * (x**2 + x*y + y**2))\n",
    "eq5 = Eq(lhs, rhs)\n",
    "disp.display(simplify(eq5))"
   ]
  },
  {
   "cell_type": "markdown",
   "metadata": {},
   "source": [
    "---"
   ]
  },
  {
   "cell_type": "markdown",
   "metadata": {},
   "source": [
    "Introduce three new variables, `a`, `b`, and `c`.\n",
    "\n",
    "- If `x % 3 == 0` then `(z**2+z*y+y**2, z**2+x*z+x**2, x**2+x*y+y**2) = (3*a**3, b**3, c**3)`\n",
    "- If `y % 3 == 0` then `(z**2+z*y+y**2, z**2+x*z+x**2, x**2+x*y+y**2) = (a**3, 3*b**3, c**3)`\n",
    "- If `z % 3 == 0` then `(z**2+z*y+y**2, z**2+x*z+x**2, x**2+x*y+y**2) = (a**3, b**3, 3*c**3)`\n",
    "\n",
    "Proof:"
   ]
  }
 ],
 "metadata": {
  "kernelspec": {
   "display_name": "Python 3.10.6 64-bit",
   "language": "python",
   "name": "python3"
  },
  "language_info": {
   "codemirror_mode": {
    "name": "ipython",
    "version": 3
   },
   "file_extension": ".py",
   "mimetype": "text/x-python",
   "name": "python",
   "nbconvert_exporter": "python",
   "pygments_lexer": "ipython3",
   "version": "3.10.6"
  },
  "orig_nbformat": 4,
  "vscode": {
   "interpreter": {
    "hash": "369f2c481f4da34e4445cda3fffd2e751bd1c4d706f27375911949ba6bb62e1c"
   }
  }
 },
 "nbformat": 4,
 "nbformat_minor": 2
}
